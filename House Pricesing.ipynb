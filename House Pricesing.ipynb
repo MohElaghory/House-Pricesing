{
 "cells": [
  {
   "cell_type": "markdown",
   "id": "5a30f057",
   "metadata": {},
   "source": [
    "**Data fields**:\n",
    "\n",
    "Here's a brief version of what you'll find in the data description file.\n",
    "\n",
    "- SalePrice - the property's sale price in dollars. This is the target variable that you're trying to predict.\n",
    "- MSSubClass: The building class\n",
    "- MSZoning: The general zoning classification\n",
    "- LotFrontage: Linear feet of street connected to property\n",
    "- LotArea: Lot size in square feet\n",
    "- Street: Type of road access\n",
    "- Alley: Type of alley access\n",
    "- LotShape: General shape of property\n",
    "- LandContour: Flatness of the property\n",
    "- Utilities: Type of utilities available\n",
    "- LotConfig: Lot configuration\n",
    "- LandSlope: Slope of property\n",
    "- Neighborhood: Physical locations within Ames city limits\n",
    "- Condition1: Proximity to main road or railroad\n",
    "- Condition2: Proximity to main road or railroad (if a second is present)\n",
    "- BldgType: Type of dwelling\n",
    "- HouseStyle: Style of dwelling\n",
    "- OverallQual: Overall material and finish quality\n",
    "- OverallCond: Overall condition rating\n",
    "- YearBuilt: Original construction date\n",
    "- YearRemodAdd: Remodel date\n",
    "- RoofStyle: Type of roof\n",
    "- RoofMatl: Roof material\n",
    "- Exterior1st: Exterior covering on house\n",
    "- Exterior2nd: Exterior covering on house (if more than one material)\n",
    "- MasVnrType: Masonry veneer type\n",
    "- MasVnrArea: Masonry veneer area in square feet\n",
    "- ExterQual: Exterior material quality\n",
    "- ExterCond: Present condition of the material on the exterior\n",
    "- Foundation: Type of foundation\n",
    "- BsmtQual: Height of the basement\n",
    "- BsmtCond: General condition of the basement\n",
    "- BsmtExposure: Walkout or garden level basement walls\n",
    "- BsmtFinType1: Quality of basement finished area\n",
    "- BsmtFinSF1: Type 1 finished square feet\n",
    "- BsmtFinType2: Quality of second finished area (if present)\n",
    "- BsmtFinSF2: Type 2 finished square feet\n",
    "- BsmtUnfSF: Unfinished square feet of basement area\n",
    "- TotalBsmtSF: Total square feet of basement area\n",
    "- Heating: Type of heating\n",
    "- HeatingQC: Heating quality and condition\n",
    "- CentralAir: Central air conditioning\n",
    "- Electrical: Electrical system\n",
    "- 1stFlrSF: First Floor square feet\n",
    "- 2ndFlrSF: Second floor square feet- \n",
    "- LowQualFinSF: Low quality finished square feet (all floors)\n",
    "- GrLivArea: Above grade (ground) living area square feet\n",
    "- BsmtFullBath: Basement full bathrooms\n",
    "- BsmtHalfBath: Basement half bathrooms\n",
    "- FullBath: Full bathrooms above grade\n",
    "- HalfBath: Half baths above grade\n",
    "- Bedroom: Number of bedrooms above basement level\n",
    "- Kitchen: Number of kitchens\n",
    "- KitchenQual: Kitchen quality\n",
    "- TotRmsAbvGrd: Total rooms above grade (does not include bathrooms)\n",
    "- Functional: Home functionality rating\n",
    "- Fireplaces: Number of fireplaces\n",
    "- FireplaceQu: Fireplace quality\n",
    "- GarageType: Garage location\n",
    "- GarageYrBlt: Year garage was built\n",
    "- GarageFinish: Interior finish of the garage\n",
    "- GarageCars: Size of garage in car capacity\n",
    "- GarageArea: Size of garage in square feet\n",
    "- GarageQual: Garage quality\n",
    "- GarageCond: Garage condition\n",
    "- PavedDrive: Paved driveway\n",
    "- WoodDeckSF: Wood deck area in square feet\n",
    "- OpenPorchSF: Open porch area in square feet\n",
    "- EnclosedPorch: Enclosed porch area in square feet\n",
    "- 3SsnPorch: Three season porch area in square feet\n",
    "- ScreenPorch: Screen porch area in square feet\n",
    "- PoolArea: Pool area in square feet\n",
    "- PoolQC: Pool quality\n",
    "- Fence: Fence quality\n",
    "- MiscFeature: Miscellaneous feature not covered in other categories\n",
    "- MiscVal: Value of miscellaneous feature\n",
    "- MoSold: Month Sold\n",
    "- YrSold: Year Sold\n",
    "- SaleType: Type of sale\n",
    "- SaleCondition: Condition of sale"
   ]
  },
  {
   "cell_type": "markdown",
   "id": "b0ebbfd7",
   "metadata": {},
   "source": [
    "______\n",
    "## `1. Data Acquisition`\n",
    "- The Python Pandas packages helps us work with our datasets. We start by acquiring the training dataset into Pandas DataFrames, and take a first look of our Dataframe using pandas descriptive statitstics functions"
   ]
  },
  {
   "cell_type": "markdown",
   "id": "a2d8ded9",
   "metadata": {},
   "source": [
    "### Importing Necessary libraries"
   ]
  },
  {
   "cell_type": "code",
   "execution_count": 1,
   "id": "cc42744c",
   "metadata": {},
   "outputs": [],
   "source": [
    "import pandas as pd\n",
    "import numpy as np\n",
    "import matplotlib.pyplot as plt\n",
    "import seaborn as sns"
   ]
  },
  {
   "cell_type": "code",
   "execution_count": 2,
   "id": "7ba13418",
   "metadata": {},
   "outputs": [
    {
     "data": {
      "text/html": [
       "<div>\n",
       "<style scoped>\n",
       "    .dataframe tbody tr th:only-of-type {\n",
       "        vertical-align: middle;\n",
       "    }\n",
       "\n",
       "    .dataframe tbody tr th {\n",
       "        vertical-align: top;\n",
       "    }\n",
       "\n",
       "    .dataframe thead th {\n",
       "        text-align: right;\n",
       "    }\n",
       "</style>\n",
       "<table border=\"1\" class=\"dataframe\">\n",
       "  <thead>\n",
       "    <tr style=\"text-align: right;\">\n",
       "      <th></th>\n",
       "      <th>Id</th>\n",
       "      <th>MSSubClass</th>\n",
       "      <th>MSZoning</th>\n",
       "      <th>LotFrontage</th>\n",
       "      <th>LotArea</th>\n",
       "      <th>Street</th>\n",
       "      <th>Alley</th>\n",
       "      <th>LotShape</th>\n",
       "      <th>LandContour</th>\n",
       "      <th>Utilities</th>\n",
       "      <th>...</th>\n",
       "      <th>PoolArea</th>\n",
       "      <th>PoolQC</th>\n",
       "      <th>Fence</th>\n",
       "      <th>MiscFeature</th>\n",
       "      <th>MiscVal</th>\n",
       "      <th>MoSold</th>\n",
       "      <th>YrSold</th>\n",
       "      <th>SaleType</th>\n",
       "      <th>SaleCondition</th>\n",
       "      <th>SalePrice</th>\n",
       "    </tr>\n",
       "  </thead>\n",
       "  <tbody>\n",
       "    <tr>\n",
       "      <th>0</th>\n",
       "      <td>1</td>\n",
       "      <td>60</td>\n",
       "      <td>RL</td>\n",
       "      <td>65.0</td>\n",
       "      <td>8450</td>\n",
       "      <td>Pave</td>\n",
       "      <td>NaN</td>\n",
       "      <td>Reg</td>\n",
       "      <td>Lvl</td>\n",
       "      <td>AllPub</td>\n",
       "      <td>...</td>\n",
       "      <td>0</td>\n",
       "      <td>NaN</td>\n",
       "      <td>NaN</td>\n",
       "      <td>NaN</td>\n",
       "      <td>0</td>\n",
       "      <td>2</td>\n",
       "      <td>2008</td>\n",
       "      <td>WD</td>\n",
       "      <td>Normal</td>\n",
       "      <td>208500</td>\n",
       "    </tr>\n",
       "    <tr>\n",
       "      <th>1</th>\n",
       "      <td>2</td>\n",
       "      <td>20</td>\n",
       "      <td>RL</td>\n",
       "      <td>80.0</td>\n",
       "      <td>9600</td>\n",
       "      <td>Pave</td>\n",
       "      <td>NaN</td>\n",
       "      <td>Reg</td>\n",
       "      <td>Lvl</td>\n",
       "      <td>AllPub</td>\n",
       "      <td>...</td>\n",
       "      <td>0</td>\n",
       "      <td>NaN</td>\n",
       "      <td>NaN</td>\n",
       "      <td>NaN</td>\n",
       "      <td>0</td>\n",
       "      <td>5</td>\n",
       "      <td>2007</td>\n",
       "      <td>WD</td>\n",
       "      <td>Normal</td>\n",
       "      <td>181500</td>\n",
       "    </tr>\n",
       "    <tr>\n",
       "      <th>2</th>\n",
       "      <td>3</td>\n",
       "      <td>60</td>\n",
       "      <td>RL</td>\n",
       "      <td>68.0</td>\n",
       "      <td>11250</td>\n",
       "      <td>Pave</td>\n",
       "      <td>NaN</td>\n",
       "      <td>IR1</td>\n",
       "      <td>Lvl</td>\n",
       "      <td>AllPub</td>\n",
       "      <td>...</td>\n",
       "      <td>0</td>\n",
       "      <td>NaN</td>\n",
       "      <td>NaN</td>\n",
       "      <td>NaN</td>\n",
       "      <td>0</td>\n",
       "      <td>9</td>\n",
       "      <td>2008</td>\n",
       "      <td>WD</td>\n",
       "      <td>Normal</td>\n",
       "      <td>223500</td>\n",
       "    </tr>\n",
       "    <tr>\n",
       "      <th>3</th>\n",
       "      <td>4</td>\n",
       "      <td>70</td>\n",
       "      <td>RL</td>\n",
       "      <td>60.0</td>\n",
       "      <td>9550</td>\n",
       "      <td>Pave</td>\n",
       "      <td>NaN</td>\n",
       "      <td>IR1</td>\n",
       "      <td>Lvl</td>\n",
       "      <td>AllPub</td>\n",
       "      <td>...</td>\n",
       "      <td>0</td>\n",
       "      <td>NaN</td>\n",
       "      <td>NaN</td>\n",
       "      <td>NaN</td>\n",
       "      <td>0</td>\n",
       "      <td>2</td>\n",
       "      <td>2006</td>\n",
       "      <td>WD</td>\n",
       "      <td>Abnorml</td>\n",
       "      <td>140000</td>\n",
       "    </tr>\n",
       "    <tr>\n",
       "      <th>4</th>\n",
       "      <td>5</td>\n",
       "      <td>60</td>\n",
       "      <td>RL</td>\n",
       "      <td>84.0</td>\n",
       "      <td>14260</td>\n",
       "      <td>Pave</td>\n",
       "      <td>NaN</td>\n",
       "      <td>IR1</td>\n",
       "      <td>Lvl</td>\n",
       "      <td>AllPub</td>\n",
       "      <td>...</td>\n",
       "      <td>0</td>\n",
       "      <td>NaN</td>\n",
       "      <td>NaN</td>\n",
       "      <td>NaN</td>\n",
       "      <td>0</td>\n",
       "      <td>12</td>\n",
       "      <td>2008</td>\n",
       "      <td>WD</td>\n",
       "      <td>Normal</td>\n",
       "      <td>250000</td>\n",
       "    </tr>\n",
       "  </tbody>\n",
       "</table>\n",
       "<p>5 rows × 81 columns</p>\n",
       "</div>"
      ],
      "text/plain": [
       "   Id  MSSubClass MSZoning  LotFrontage  LotArea Street Alley LotShape  \\\n",
       "0   1          60       RL         65.0     8450   Pave   NaN      Reg   \n",
       "1   2          20       RL         80.0     9600   Pave   NaN      Reg   \n",
       "2   3          60       RL         68.0    11250   Pave   NaN      IR1   \n",
       "3   4          70       RL         60.0     9550   Pave   NaN      IR1   \n",
       "4   5          60       RL         84.0    14260   Pave   NaN      IR1   \n",
       "\n",
       "  LandContour Utilities  ... PoolArea PoolQC Fence MiscFeature MiscVal MoSold  \\\n",
       "0         Lvl    AllPub  ...        0    NaN   NaN         NaN       0      2   \n",
       "1         Lvl    AllPub  ...        0    NaN   NaN         NaN       0      5   \n",
       "2         Lvl    AllPub  ...        0    NaN   NaN         NaN       0      9   \n",
       "3         Lvl    AllPub  ...        0    NaN   NaN         NaN       0      2   \n",
       "4         Lvl    AllPub  ...        0    NaN   NaN         NaN       0     12   \n",
       "\n",
       "  YrSold  SaleType  SaleCondition  SalePrice  \n",
       "0   2008        WD         Normal     208500  \n",
       "1   2007        WD         Normal     181500  \n",
       "2   2008        WD         Normal     223500  \n",
       "3   2006        WD        Abnorml     140000  \n",
       "4   2008        WD         Normal     250000  \n",
       "\n",
       "[5 rows x 81 columns]"
      ]
     },
     "execution_count": 2,
     "metadata": {},
     "output_type": "execute_result"
    }
   ],
   "source": [
    "df= pd.read_csv('House Prices.csv')\n",
    "df.head()"
   ]
  },
  {
   "cell_type": "code",
   "execution_count": 3,
   "id": "0a781ab6",
   "metadata": {},
   "outputs": [
    {
     "data": {
      "text/plain": [
       "(1460, 81)"
      ]
     },
     "execution_count": 3,
     "metadata": {},
     "output_type": "execute_result"
    }
   ],
   "source": [
    "df.shape"
   ]
  },
  {
   "cell_type": "markdown",
   "id": "90353db6",
   "metadata": {},
   "source": [
    "## `2. Data Cleaning`"
   ]
  },
  {
   "cell_type": "code",
   "execution_count": 4,
   "id": "d69b8ebe",
   "metadata": {},
   "outputs": [
    {
     "data": {
      "text/plain": [
       "LotFrontage      259\n",
       "Alley           1369\n",
       "MasVnrType         8\n",
       "MasVnrArea         8\n",
       "BsmtQual          37\n",
       "BsmtCond          37\n",
       "BsmtExposure      38\n",
       "BsmtFinType1      37\n",
       "BsmtFinType2      38\n",
       "Electrical         1\n",
       "FireplaceQu      690\n",
       "GarageType        81\n",
       "GarageYrBlt       81\n",
       "GarageFinish      81\n",
       "GarageQual        81\n",
       "GarageCond        81\n",
       "PoolQC          1453\n",
       "Fence           1179\n",
       "MiscFeature     1406\n",
       "dtype: int64"
      ]
     },
     "execution_count": 4,
     "metadata": {},
     "output_type": "execute_result"
    }
   ],
   "source": [
    "# df.isna().sum()\n",
    "null_columns= df.columns[df.isna().any()]\n",
    "df[null_columns].isna().sum()"
   ]
  },
  {
   "cell_type": "code",
   "execution_count": 5,
   "id": "95f0d1d9",
   "metadata": {},
   "outputs": [],
   "source": [
    "# the Id column not add value so i will drop it:\n",
    "# this features --> ['Id', 'Alley', 'FireplaceQu', 'PoolQC', 'Fence', 'MiscFeature']  have above 90% of null values so will drop them. \n",
    "\n",
    "df.drop(['Id', 'Alley', 'FireplaceQu', 'PoolQC', 'Fence', 'MiscFeature'], axis= 1, inplace= True)"
   ]
  },
  {
   "cell_type": "code",
   "execution_count": 6,
   "id": "57c625a2",
   "metadata": {},
   "outputs": [
    {
     "data": {
      "text/plain": [
       "LotFrontage     259\n",
       "MasVnrType        8\n",
       "MasVnrArea        8\n",
       "BsmtQual         37\n",
       "BsmtCond         37\n",
       "BsmtExposure     38\n",
       "BsmtFinType1     37\n",
       "BsmtFinType2     38\n",
       "Electrical        1\n",
       "GarageType       81\n",
       "GarageYrBlt      81\n",
       "GarageFinish     81\n",
       "GarageQual       81\n",
       "GarageCond       81\n",
       "dtype: int64"
      ]
     },
     "execution_count": 6,
     "metadata": {},
     "output_type": "execute_result"
    }
   ],
   "source": [
    "# df.isna().sum()\n",
    "null_columns= df.columns[df.isna().any()]\n",
    "df[null_columns].isna().sum()"
   ]
  },
  {
   "cell_type": "code",
   "execution_count": 7,
   "id": "3438e7a1",
   "metadata": {},
   "outputs": [
    {
     "data": {
      "text/plain": [
       "(1460, 75)"
      ]
     },
     "execution_count": 7,
     "metadata": {},
     "output_type": "execute_result"
    }
   ],
   "source": [
    "df.shape"
   ]
  },
  {
   "cell_type": "code",
   "execution_count": 8,
   "id": "9d78802a",
   "metadata": {},
   "outputs": [
    {
     "data": {
      "text/plain": [
       "[dtype('float64'),\n",
       " dtype('O'),\n",
       " dtype('float64'),\n",
       " dtype('O'),\n",
       " dtype('O'),\n",
       " dtype('O'),\n",
       " dtype('O'),\n",
       " dtype('O'),\n",
       " dtype('O'),\n",
       " dtype('O'),\n",
       " dtype('float64'),\n",
       " dtype('O'),\n",
       " dtype('O'),\n",
       " dtype('O')]"
      ]
     },
     "execution_count": 8,
     "metadata": {},
     "output_type": "execute_result"
    }
   ],
   "source": [
    "[df[i].dtypes for i in null_columns]"
   ]
  },
  {
   "cell_type": "code",
   "execution_count": 9,
   "id": "f611e002",
   "metadata": {},
   "outputs": [],
   "source": [
    "# fillna with median in numerical features:\n",
    "num_features= df[null_columns].select_dtypes(exclude=['object']).columns\n",
    "\n",
    "for c in num_features:\n",
    "    df[c].fillna(df[c].median(), inplace= True)"
   ]
  },
  {
   "cell_type": "code",
   "execution_count": 10,
   "id": "8197b71b",
   "metadata": {},
   "outputs": [],
   "source": [
    "# fillna with fowrward fill (ffill) in object features:\n",
    "object_features= df[null_columns].select_dtypes(include=['object']).columns\n",
    "\n",
    "for c in object_features:\n",
    "    df[c].fillna(method= 'ffill', inplace= True)"
   ]
  },
  {
   "cell_type": "code",
   "execution_count": 11,
   "id": "300f2524",
   "metadata": {},
   "outputs": [
    {
     "data": {
      "text/plain": [
       "Series([], dtype: float64)"
      ]
     },
     "execution_count": 11,
     "metadata": {},
     "output_type": "execute_result"
    }
   ],
   "source": [
    "# df.isna().sum()\n",
    "null_columns= df.columns[df.isna().any()]\n",
    "df[null_columns].isna().sum()        # as shown there are no nulls values"
   ]
  },
  {
   "cell_type": "markdown",
   "id": "ea277842",
   "metadata": {},
   "source": [
    "## `3. Data Preprocessing`"
   ]
  },
  {
   "cell_type": "code",
   "execution_count": 12,
   "id": "710903c6",
   "metadata": {},
   "outputs": [
    {
     "name": "stderr",
     "output_type": "stream",
     "text": [
      "C:\\Users\\nooor\\anaconda3\\lib\\site-packages\\pandas\\core\\indexing.py:1951: SettingWithCopyWarning: \n",
      "A value is trying to be set on a copy of a slice from a DataFrame.\n",
      "Try using .loc[row_indexer,col_indexer] = value instead\n",
      "\n",
      "See the caveats in the documentation: https://pandas.pydata.org/pandas-docs/stable/user_guide/indexing.html#returning-a-view-versus-a-copy\n",
      "  self.obj[selected_item_labels] = value\n",
      "C:\\Users\\nooor\\anaconda3\\lib\\site-packages\\pandas\\core\\indexing.py:1773: SettingWithCopyWarning: \n",
      "A value is trying to be set on a copy of a slice from a DataFrame.\n",
      "Try using .loc[row_indexer,col_indexer] = value instead\n",
      "\n",
      "See the caveats in the documentation: https://pandas.pydata.org/pandas-docs/stable/user_guide/indexing.html#returning-a-view-versus-a-copy\n",
      "  self._setitem_single_column(ilocs[0], value, pi)\n"
     ]
    }
   ],
   "source": [
    "# to collect object features:\n",
    "object_data = df.select_dtypes(include=['object'])\n",
    "\n",
    "# Label Encoder, to convert categorical to numerical:\n",
    "from sklearn.preprocessing import LabelEncoder\n",
    "\n",
    "la = LabelEncoder()\n",
    "for i in range(object_data.shape[1]):\n",
    "    object_data.iloc[:, i] = la.fit_transform(object_data.iloc[:, i])\n",
    "\n",
    "#concat between data none object and data object after convert it\n",
    "num_data = df.select_dtypes(exclude=['object'])\n",
    "data = pd.concat([object_data, num_data], axis=1)"
   ]
  },
  {
   "cell_type": "code",
   "execution_count": 13,
   "id": "a1c4de3c",
   "metadata": {},
   "outputs": [
    {
     "data": {
      "text/html": [
       "<div>\n",
       "<style scoped>\n",
       "    .dataframe tbody tr th:only-of-type {\n",
       "        vertical-align: middle;\n",
       "    }\n",
       "\n",
       "    .dataframe tbody tr th {\n",
       "        vertical-align: top;\n",
       "    }\n",
       "\n",
       "    .dataframe thead th {\n",
       "        text-align: right;\n",
       "    }\n",
       "</style>\n",
       "<table border=\"1\" class=\"dataframe\">\n",
       "  <thead>\n",
       "    <tr style=\"text-align: right;\">\n",
       "      <th></th>\n",
       "      <th>MSZoning</th>\n",
       "      <th>Street</th>\n",
       "      <th>LotShape</th>\n",
       "      <th>LandContour</th>\n",
       "      <th>Utilities</th>\n",
       "      <th>LotConfig</th>\n",
       "      <th>LandSlope</th>\n",
       "      <th>Neighborhood</th>\n",
       "      <th>Condition1</th>\n",
       "      <th>Condition2</th>\n",
       "      <th>...</th>\n",
       "      <th>WoodDeckSF</th>\n",
       "      <th>OpenPorchSF</th>\n",
       "      <th>EnclosedPorch</th>\n",
       "      <th>3SsnPorch</th>\n",
       "      <th>ScreenPorch</th>\n",
       "      <th>PoolArea</th>\n",
       "      <th>MiscVal</th>\n",
       "      <th>MoSold</th>\n",
       "      <th>YrSold</th>\n",
       "      <th>SalePrice</th>\n",
       "    </tr>\n",
       "  </thead>\n",
       "  <tbody>\n",
       "    <tr>\n",
       "      <th>0</th>\n",
       "      <td>3</td>\n",
       "      <td>1</td>\n",
       "      <td>3</td>\n",
       "      <td>3</td>\n",
       "      <td>0</td>\n",
       "      <td>4</td>\n",
       "      <td>0</td>\n",
       "      <td>5</td>\n",
       "      <td>2</td>\n",
       "      <td>2</td>\n",
       "      <td>...</td>\n",
       "      <td>0</td>\n",
       "      <td>61</td>\n",
       "      <td>0</td>\n",
       "      <td>0</td>\n",
       "      <td>0</td>\n",
       "      <td>0</td>\n",
       "      <td>0</td>\n",
       "      <td>2</td>\n",
       "      <td>2008</td>\n",
       "      <td>208500</td>\n",
       "    </tr>\n",
       "    <tr>\n",
       "      <th>1</th>\n",
       "      <td>3</td>\n",
       "      <td>1</td>\n",
       "      <td>3</td>\n",
       "      <td>3</td>\n",
       "      <td>0</td>\n",
       "      <td>2</td>\n",
       "      <td>0</td>\n",
       "      <td>24</td>\n",
       "      <td>1</td>\n",
       "      <td>2</td>\n",
       "      <td>...</td>\n",
       "      <td>298</td>\n",
       "      <td>0</td>\n",
       "      <td>0</td>\n",
       "      <td>0</td>\n",
       "      <td>0</td>\n",
       "      <td>0</td>\n",
       "      <td>0</td>\n",
       "      <td>5</td>\n",
       "      <td>2007</td>\n",
       "      <td>181500</td>\n",
       "    </tr>\n",
       "    <tr>\n",
       "      <th>2</th>\n",
       "      <td>3</td>\n",
       "      <td>1</td>\n",
       "      <td>0</td>\n",
       "      <td>3</td>\n",
       "      <td>0</td>\n",
       "      <td>4</td>\n",
       "      <td>0</td>\n",
       "      <td>5</td>\n",
       "      <td>2</td>\n",
       "      <td>2</td>\n",
       "      <td>...</td>\n",
       "      <td>0</td>\n",
       "      <td>42</td>\n",
       "      <td>0</td>\n",
       "      <td>0</td>\n",
       "      <td>0</td>\n",
       "      <td>0</td>\n",
       "      <td>0</td>\n",
       "      <td>9</td>\n",
       "      <td>2008</td>\n",
       "      <td>223500</td>\n",
       "    </tr>\n",
       "    <tr>\n",
       "      <th>3</th>\n",
       "      <td>3</td>\n",
       "      <td>1</td>\n",
       "      <td>0</td>\n",
       "      <td>3</td>\n",
       "      <td>0</td>\n",
       "      <td>0</td>\n",
       "      <td>0</td>\n",
       "      <td>6</td>\n",
       "      <td>2</td>\n",
       "      <td>2</td>\n",
       "      <td>...</td>\n",
       "      <td>0</td>\n",
       "      <td>35</td>\n",
       "      <td>272</td>\n",
       "      <td>0</td>\n",
       "      <td>0</td>\n",
       "      <td>0</td>\n",
       "      <td>0</td>\n",
       "      <td>2</td>\n",
       "      <td>2006</td>\n",
       "      <td>140000</td>\n",
       "    </tr>\n",
       "    <tr>\n",
       "      <th>4</th>\n",
       "      <td>3</td>\n",
       "      <td>1</td>\n",
       "      <td>0</td>\n",
       "      <td>3</td>\n",
       "      <td>0</td>\n",
       "      <td>2</td>\n",
       "      <td>0</td>\n",
       "      <td>15</td>\n",
       "      <td>2</td>\n",
       "      <td>2</td>\n",
       "      <td>...</td>\n",
       "      <td>192</td>\n",
       "      <td>84</td>\n",
       "      <td>0</td>\n",
       "      <td>0</td>\n",
       "      <td>0</td>\n",
       "      <td>0</td>\n",
       "      <td>0</td>\n",
       "      <td>12</td>\n",
       "      <td>2008</td>\n",
       "      <td>250000</td>\n",
       "    </tr>\n",
       "  </tbody>\n",
       "</table>\n",
       "<p>5 rows × 75 columns</p>\n",
       "</div>"
      ],
      "text/plain": [
       "   MSZoning  Street  LotShape  LandContour  Utilities  LotConfig  LandSlope  \\\n",
       "0         3       1         3            3          0          4          0   \n",
       "1         3       1         3            3          0          2          0   \n",
       "2         3       1         0            3          0          4          0   \n",
       "3         3       1         0            3          0          0          0   \n",
       "4         3       1         0            3          0          2          0   \n",
       "\n",
       "   Neighborhood  Condition1  Condition2  ...  WoodDeckSF  OpenPorchSF  \\\n",
       "0             5           2           2  ...           0           61   \n",
       "1            24           1           2  ...         298            0   \n",
       "2             5           2           2  ...           0           42   \n",
       "3             6           2           2  ...           0           35   \n",
       "4            15           2           2  ...         192           84   \n",
       "\n",
       "   EnclosedPorch  3SsnPorch  ScreenPorch  PoolArea  MiscVal  MoSold  YrSold  \\\n",
       "0              0          0            0         0        0       2    2008   \n",
       "1              0          0            0         0        0       5    2007   \n",
       "2              0          0            0         0        0       9    2008   \n",
       "3            272          0            0         0        0       2    2006   \n",
       "4              0          0            0         0        0      12    2008   \n",
       "\n",
       "   SalePrice  \n",
       "0     208500  \n",
       "1     181500  \n",
       "2     223500  \n",
       "3     140000  \n",
       "4     250000  \n",
       "\n",
       "[5 rows x 75 columns]"
      ]
     },
     "execution_count": 13,
     "metadata": {},
     "output_type": "execute_result"
    }
   ],
   "source": [
    "data.head()"
   ]
  },
  {
   "cell_type": "markdown",
   "id": "375467bb",
   "metadata": {},
   "source": [
    "## `4. Make Polynomial Features`"
   ]
  },
  {
   "cell_type": "markdown",
   "id": "20b7cc85",
   "metadata": {},
   "source": [
    "**Polynomial features**:\n",
    "Generate a new feature matrix consisting of all polynomial combinations of the features with degree less than or equal to the specified degree. For example, if an input sample is two dimensional and of the form [a, b], the degree-2 polynomial features are [1, a, b, a^2, ab, b^2]."
   ]
  },
  {
   "cell_type": "code",
   "execution_count": 14,
   "id": "00bc2f00",
   "metadata": {},
   "outputs": [
    {
     "data": {
      "text/plain": [
       "array([[ 1.,  0.,  1.,  0.],\n",
       "       [ 1.,  2.,  3.,  6.],\n",
       "       [ 1.,  4.,  5., 20.]])"
      ]
     },
     "execution_count": 14,
     "metadata": {},
     "output_type": "execute_result"
    }
   ],
   "source": [
    "### Example to understand the functionality of parameter [interaction_only= True / False]\n",
    "\n",
    "import numpy as np\n",
    "from sklearn.preprocessing import PolynomialFeatures\n",
    "X = np.arange(6).reshape(3, 2)\n",
    "X\n",
    "# output:\n",
    "# array([[0, 1],\n",
    "#       [2, 3],\n",
    "#       [4, 5]])\n",
    "\n",
    "poly = PolynomialFeatures(2, interaction_only=False)    # If [interaction_only=False], then will get [1, a, b, a^2, ab, b^2].\n",
    "poly.fit_transform(X)\n",
    "# output:\n",
    "# array([[ 1.,  0.,  1.,  0.,  0.,  1.],\n",
    "#        [ 1.,  2.,  3.,  4.,  6.,  9.],\n",
    "#        [ 1.,  4.,  5., 16., 20., 25.]])\n",
    "\n",
    "poly = PolynomialFeatures(interaction_only=True)    # If [interaction_only=True], then will get [1, a, b, ab], not get power [a^2, b^2]\n",
    "poly.fit_transform(X)\n",
    "# output:\n",
    "# array([[ 1.,  0.,  1.,  0.],\n",
    "#        [ 1.,  2.,  3.,  6.],\n",
    "#        [ 1.,  4.,  5., 20.]])"
   ]
  },
  {
   "cell_type": "code",
   "execution_count": 15,
   "id": "badd10da",
   "metadata": {},
   "outputs": [],
   "source": [
    "from sklearn.preprocessing import PolynomialFeatures\n",
    "\n",
    "poly = PolynomialFeatures(2, interaction_only= True)\n",
    "output_nparray = poly.fit_transform(data)\n",
    "target_feature_names = ['x'.join(['{}^{}'.format(pair[0],pair[1]) for pair in tuple if pair[1]!=0]) for tuple in [zip(df.columns, p) for p in poly.powers_]]\n",
    "\n",
    "output_df = pd.DataFrame(output_nparray, columns= target_feature_names)"
   ]
  },
  {
   "cell_type": "markdown",
   "id": "a1b25f02",
   "metadata": {},
   "source": [
    "## `5. Modeling`"
   ]
  },
  {
   "cell_type": "code",
   "execution_count": 16,
   "id": "1e79e3f9",
   "metadata": {},
   "outputs": [],
   "source": [
    "# Spliting data:\n",
    "X = output_df.iloc[:, :-1]\n",
    "y = output_df.iloc[:, -1]\n",
    "\n",
    "from sklearn.model_selection import train_test_split\n",
    "X_train, X_test, y_train, y_test = train_test_split(X, y, test_size=0.2, random_state=42)"
   ]
  },
  {
   "cell_type": "markdown",
   "id": "c556f049",
   "metadata": {},
   "source": [
    "### 1. LinearRegression:"
   ]
  },
  {
   "cell_type": "code",
   "execution_count": 17,
   "id": "84f26e32",
   "metadata": {},
   "outputs": [
    {
     "name": "stdout",
     "output_type": "stream",
     "text": [
      "Linear Regression Train Accuracy is :  1.0\n",
      "Linear Regression Train Score is :     1.0\n",
      "Linear Regression Test Accuracy is :   0.9999526056913903\n",
      "Linear Regression Test Score is :      0.9999526056913903\n",
      "\n",
      "\n",
      "Linear Regression Train MSE is :       0.0\n",
      "Linear Regression Test MSE is :        1464888151698.8047\n"
     ]
    }
   ],
   "source": [
    "from sklearn.linear_model import LinearRegression\n",
    "from sklearn.metrics import r2_score, mean_squared_error\n",
    "\n",
    "LR = LinearRegression()\n",
    "LR.fit(X_train, y_train)\n",
    "y_pre= LR.predict(X_test)\n",
    "\n",
    "print('Linear Regression Train Accuracy is : '   , r2_score(y_train, LR.predict(X_train)))\n",
    "print('Linear Regression Train Score is :    '   , LR.score(X_train, y_train))\n",
    "print('Linear Regression Test Accuracy is :  '   , r2_score(y_test, y_pre))\n",
    "print('Linear Regression Test Score is :     '   , LR.score(X_test, y_test))\n",
    " \n",
    "print('\\n')\n",
    "print('Linear Regression Train MSE is :      '   , round(mean_squared_error(y_train, LR.predict(X_train)), 4))\n",
    "print('Linear Regression Test MSE is :       '   , round(mean_squared_error(y_test, y_pre), 4))"
   ]
  },
  {
   "cell_type": "code",
   "execution_count": 18,
   "id": "0e44a365",
   "metadata": {},
   "outputs": [
    {
     "name": "stdout",
     "output_type": "stream",
     "text": [
      "Y predict:  [3.09777830e+08 6.53149286e+08 2.31355910e+08 3.19041557e+08\n",
      " 6.33561031e+08]\n",
      "Y test:  892     309927000.0\n",
      "1105    653250000.0\n",
      "413     231150000.0\n",
      "522     318954000.0\n",
      "1036    633839500.0\n",
      "Name: SaleCondition^1xSalePrice^1, dtype: float64\n"
     ]
    }
   ],
   "source": [
    "print('Y predict: ',y_pre[:5])\n",
    "print('Y test: ', y_test[:5])"
   ]
  },
  {
   "cell_type": "markdown",
   "id": "06be6f10",
   "metadata": {},
   "source": [
    "### 2. DecisionTreeRegressor:"
   ]
  },
  {
   "cell_type": "code",
   "execution_count": 19,
   "id": "bee53d7e",
   "metadata": {},
   "outputs": [
    {
     "name": "stdout",
     "output_type": "stream",
     "text": [
      "Linear Regression Train Accuracy is :  0.9893572156644006\n",
      "Linear Regression Train Score is :     0.9893572156644006\n",
      "Linear Regression Test Accuracy is :   0.9670343303978861\n",
      "Linear Regression Test Score is :      0.9670343303978861\n",
      "\n",
      "\n",
      "Linear Regression Train MSE is :       255904166641344.22\n",
      "Linear Regression Test MSE is :        1018920208555727.5\n"
     ]
    }
   ],
   "source": [
    "from sklearn.tree import DecisionTreeRegressor\n",
    "from sklearn.metrics import r2_score, mean_squared_error\n",
    "\n",
    "DT = DecisionTreeRegressor(max_depth = 4, random_state= 1)\n",
    "DT.fit(X_train, y_train)\n",
    "y_pre= DT.predict(X_test)\n",
    "\n",
    "print('Linear Regression Train Accuracy is : '   , r2_score(y_train, DT.predict(X_train)))\n",
    "print('Linear Regression Train Score is :    '   , DT.score(X_train, y_train))\n",
    "print('Linear Regression Test Accuracy is :  '   , r2_score(y_test, y_pre))\n",
    "print('Linear Regression Test Score is :     '   , DT.score(X_test, y_test))\n",
    " \n",
    "print('\\n')\n",
    "print('Linear Regression Train MSE is :      '   , round(mean_squared_error(y_train, DT.predict(X_train)), 4))\n",
    "print('Linear Regression Test MSE is :       '   , round(mean_squared_error(y_test, y_pre), 4))\n"
   ]
  },
  {
   "cell_type": "code",
   "execution_count": 20,
   "id": "282c87c9",
   "metadata": {},
   "outputs": [
    {
     "name": "stdout",
     "output_type": "stream",
     "text": [
      "Y predict:  [3.16932755e+08 6.40672301e+08 2.49823286e+08 3.16932755e+08\n",
      " 6.40672301e+08]\n",
      "Y test:  892     309927000.0\n",
      "1105    653250000.0\n",
      "413     231150000.0\n",
      "522     318954000.0\n",
      "1036    633839500.0\n",
      "Name: SaleCondition^1xSalePrice^1, dtype: float64\n"
     ]
    }
   ],
   "source": [
    "print('Y predict: ',y_pre[:5])\n",
    "print('Y test: ', y_test[:5])"
   ]
  },
  {
   "cell_type": "code",
   "execution_count": null,
   "id": "6db765c7",
   "metadata": {},
   "outputs": [],
   "source": []
  }
 ],
 "metadata": {
  "kernelspec": {
   "display_name": "Python 3",
   "language": "python",
   "name": "python3"
  },
  "language_info": {
   "codemirror_mode": {
    "name": "ipython",
    "version": 3
   },
   "file_extension": ".py",
   "mimetype": "text/x-python",
   "name": "python",
   "nbconvert_exporter": "python",
   "pygments_lexer": "ipython3",
   "version": "3.8.8"
  }
 },
 "nbformat": 4,
 "nbformat_minor": 5
}
